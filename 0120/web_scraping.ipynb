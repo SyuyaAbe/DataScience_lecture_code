{
 "cells": [
  {
   "cell_type": "markdown",
   "metadata": {},
   "source": [
    "# Webスクレイピング\n",
    "ここでは例として、「国土交通白書」「環境白書」から文書を抜き出し、利用します。<br>\n",
    "省庁系のHP上の情報は、ほとんどの場合、出展や加工方法を明記することで、複製や公衆送信など、自由に利用ができます。\n",
    "（詳細は各省庁サイトの「著作権について」を参照）"
   ]
  },
  {
   "cell_type": "code",
   "execution_count": 1,
   "metadata": {},
   "outputs": [],
   "source": [
    "## 必要なライブラリの読み込み\n",
    "import glob\n",
    "import requests\n",
    "import re\n",
    "from bs4 import BeautifulSoup  ### <- anaconda 3系の最新バージョンでは最初から利用可能な状態。但し、無い場合はインストールが必要。"
   ]
  },
  {
   "cell_type": "markdown",
   "metadata": {},
   "source": [
    "### 1.国土交通白書\n",
    "出展: 国土交通省ホームページ 国土交通白書  URL： http://www.mlit.go.jp/statistics/file000004.html<br>\n",
    "H28-H30年度分のテキスト文書データをダウンロードし格納します。<br>\n",
    "各年度の白書は、左のメニューで章をクリックすると、右のウィンドウに本文が表示されます。左のメニューからリンクを辿って、右下のテキスト形式のデータを取得し、文字コード変換をして連結しています。"
   ]
  },
  {
   "cell_type": "code",
   "execution_count": 2,
   "metadata": {},
   "outputs": [
    {
     "data": {
      "text/plain": [
       "['mlit_y30.txt', 'mlit_y28.txt', 'mlit_y29.txt']"
      ]
     },
     "execution_count": 2,
     "metadata": {},
     "output_type": "execute_result"
    }
   ],
   "source": [
    "for y in range(28,31):\n",
    "    urlbase = \"http://www.mlit.go.jp/hakusyo/mlit/h\" + str(y - 1) + \"/hakusho/h\" + str(y)\n",
    "    req1 = requests.get( urlbase + \"/menu.html\" )\n",
    "    with open(\"mlit_y\" + str(y) + \".txt\",mode='wb') as f:\n",
    "        res = re.finditer('<a\\s+href=\\\"html/(\\w+)\\.html',req1.content.decode(req1.encoding))\n",
    "        for m in res:\n",
    "            req2 = requests.get( urlbase + \"/text/\" + m.group(1) + \".txt\" )\n",
    "            f.write(req2.content.decode(encoding='cp932').encode('utf-8'))\n",
    "glob.glob('mlit_y??.txt')  ## ファイルが出来たことを確認"
   ]
  },
  {
   "cell_type": "markdown",
   "metadata": {},
   "source": [
    "### 2.環境白書\n",
    "出展: 環境省ホームページ 過去の環境白書  URL: http://www.env.go.jp/policy/hakusyo/past_index.html<br>\n",
    "H28-H30年度分のhtml文書中から文書部分のデータを格納します。<br>\n",
    "各年度の白書は、目次ページから章や節をクリックすると、各章・節が表示されます。目次からリンクを辿り、各パートのhtml文書からタグを全て除去し（BeautifulSoup使用）、残ったテキスト部分を連結して保管します。リンクにはアンカー（#～～）が使われていて、同じhtmlファイルへのリンクが複数出てくることになる為、重複して同じhtmlを取得しないよう調整しています。"
   ]
  },
  {
   "cell_type": "code",
   "execution_count": 3,
   "metadata": {},
   "outputs": [
    {
     "data": {
      "text/plain": [
       "['env_y30.txt', 'env_y29.txt', 'env_y28.txt']"
      ]
     },
     "execution_count": 3,
     "metadata": {},
     "output_type": "execute_result"
    }
   ],
   "source": [
    "f_done = {}\n",
    "for y in range(28,31):\n",
    "    urlbase = \"http://www.env.go.jp/policy/hakusyo/h\" + str(y)\n",
    "    req1 = requests.get( urlbase + \"/index.html\" )\n",
    "    with open(\"env_y\" + str(y) + \".txt\",mode='w',encoding='utf-8') as f:\n",
    "        res = re.finditer('<a\\s+href=\\\"(html/\\w+\\.html)',req1.content.decode(req1.encoding))\n",
    "        for m in res:\n",
    "            if m.group(1) not in f_done:\n",
    "                req2 = requests.get( urlbase + \"/\" + m.group(1) )\n",
    "                soup = BeautifulSoup(req2.content,'html.parser',from_encoding='utf-8')\n",
    "                f.write(soup.get_text())\n",
    "                f_done[m.group(1)] = 1\n",
    "glob.glob('env_y??.txt')   ## ファイルが出来たことを確認"
   ]
  },
  {
   "cell_type": "markdown",
   "metadata": {},
   "source": [
    "### うまくいかない場合\n",
    "`（ここはうまくいっていれば実行不要です）`<br>\n",
    "ここまでうまくいっていれば、<br>\n",
    "mlit_y28.txt ～ mlit_y30.txt および env_y28.txt ～ env_y30.txt <br>\n",
    "が作成されているはずです。開いて確認してみてください。<br>\n",
    "もしネットワーク接続がうまくいかない等の場合、内容が空で作成されてしまいます。<br>\n",
    "その場合は、下記のセクションを実行して下さい。\n",
    "同梱してある既にダウンロード済みのファイルを使います。"
   ]
  },
  {
   "cell_type": "code",
   "execution_count": null,
   "metadata": {
    "scrolled": true
   },
   "outputs": [],
   "source": [
    "import shutil,glob\n",
    "for f in glob.glob('file/mlit_y??.txt'):\n",
    "    shutil.copy(f,'./')\n",
    "for f in glob.glob('file/env_y??.txt'):\n",
    "    shutil.copy(f,'./')\n",
    "[glob.glob('./mlit_y??.txt'),glob.glob('./env_y??.txt')]  ## ファイルが出来たことを確認"
   ]
  }
 ],
 "metadata": {
  "kernelspec": {
   "display_name": "Python 3",
   "language": "python",
   "name": "python3"
  },
  "language_info": {
   "codemirror_mode": {
    "name": "ipython",
    "version": 3
   },
   "file_extension": ".py",
   "mimetype": "text/x-python",
   "name": "python",
   "nbconvert_exporter": "python",
   "pygments_lexer": "ipython3",
   "version": "3.7.3"
  }
 },
 "nbformat": 4,
 "nbformat_minor": 2
}
