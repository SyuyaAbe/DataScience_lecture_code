{
 "cells": [
  {
   "cell_type": "code",
   "execution_count": 1,
   "metadata": {},
   "outputs": [],
   "source": [
    "# -*- coding: utf-8 -*-\n",
    "import numpy as np\n",
    "import pandas as pd\n",
    "\n",
    "import matplotlib.pyplot as plt\n",
    "%matplotlib inline\n",
    "import seaborn as sns\n",
    "\n",
    "from scipy.cluster import hierarchy\n",
    "\n",
    "FLAG_fig = False"
   ]
  },
  {
   "cell_type": "markdown",
   "metadata": {},
   "source": [
    "#### 富山県の市町村別人口動態\n",
    "人口移動調査　http://www.pref.toyama.jp/sections/1015/lib/jinko/　の中にある"
   ]
  },
  {
   "cell_type": "code",
   "execution_count": 2,
   "metadata": {},
   "outputs": [],
   "source": [
    "url = 'http://www.pref.toyama.jp/sections/1015/lib/jinko/_dat_h29/jinko_dat005.xls'\n",
    "data_orig = pd.read_excel(url, header=None)"
   ]
  },
  {
   "cell_type": "markdown",
   "metadata": {},
   "source": [
    "データのフォーマットを見て，必要，不必要な行，列を判別する"
   ]
  },
  {
   "cell_type": "code",
   "execution_count": 3,
   "metadata": {
    "scrolled": false
   },
   "outputs": [
    {
     "data": {
      "text/html": [
       "<div>\n",
       "<style scoped>\n",
       "    .dataframe tbody tr th:only-of-type {\n",
       "        vertical-align: middle;\n",
       "    }\n",
       "\n",
       "    .dataframe tbody tr th {\n",
       "        vertical-align: top;\n",
       "    }\n",
       "\n",
       "    .dataframe thead th {\n",
       "        text-align: right;\n",
       "    }\n",
       "</style>\n",
       "<table border=\"1\" class=\"dataframe\">\n",
       "  <thead>\n",
       "    <tr style=\"text-align: right;\">\n",
       "      <th></th>\n",
       "      <th>0</th>\n",
       "      <th>1</th>\n",
       "      <th>2</th>\n",
       "      <th>3</th>\n",
       "      <th>4</th>\n",
       "      <th>5</th>\n",
       "      <th>6</th>\n",
       "      <th>7</th>\n",
       "      <th>8</th>\n",
       "      <th>9</th>\n",
       "      <th>10</th>\n",
       "      <th>11</th>\n",
       "      <th>12</th>\n",
       "    </tr>\n",
       "  </thead>\n",
       "  <tbody>\n",
       "    <tr>\n",
       "      <th>0</th>\n",
       "      <td>第５表　市町村別人口動態（平成28年10月１日～平成29年９月30日）男女計</td>\n",
       "      <td>NaN</td>\n",
       "      <td>NaN</td>\n",
       "      <td>NaN</td>\n",
       "      <td>NaN</td>\n",
       "      <td>NaN</td>\n",
       "      <td>NaN</td>\n",
       "      <td>NaN</td>\n",
       "      <td>NaN</td>\n",
       "      <td>NaN</td>\n",
       "      <td>NaN</td>\n",
       "      <td>NaN</td>\n",
       "      <td>（単位：人）</td>\n",
       "    </tr>\n",
       "    <tr>\n",
       "      <th>1</th>\n",
       "      <td>NaN</td>\n",
       "      <td>NaN</td>\n",
       "      <td>自　　　然　　　動　　　態</td>\n",
       "      <td>NaN</td>\n",
       "      <td>NaN</td>\n",
       "      <td>社　　　　　　　　　　　会　　　　　　　　　　　動　　　　　　　　　　　態</td>\n",
       "      <td>NaN</td>\n",
       "      <td>NaN</td>\n",
       "      <td>NaN</td>\n",
       "      <td>NaN</td>\n",
       "      <td>NaN</td>\n",
       "      <td>NaN</td>\n",
       "      <td>NaN</td>\n",
       "    </tr>\n",
       "    <tr>\n",
       "      <th>2</th>\n",
       "      <td>市町村名</td>\n",
       "      <td>純　増　減</td>\n",
       "      <td>自然増加</td>\n",
       "      <td>出　生</td>\n",
       "      <td>死　亡</td>\n",
       "      <td>社会増加</td>\n",
       "      <td>転　　　　　　　　　入</td>\n",
       "      <td>NaN</td>\n",
       "      <td>NaN</td>\n",
       "      <td>転　　　　　　　　出</td>\n",
       "      <td>NaN</td>\n",
       "      <td>NaN</td>\n",
       "      <td>市町村名</td>\n",
       "    </tr>\n",
       "    <tr>\n",
       "      <th>3</th>\n",
       "      <td>NaN</td>\n",
       "      <td>NaN</td>\n",
       "      <td>NaN</td>\n",
       "      <td>NaN</td>\n",
       "      <td>NaN</td>\n",
       "      <td>NaN</td>\n",
       "      <td>総　数</td>\n",
       "      <td>県　内</td>\n",
       "      <td>県　外</td>\n",
       "      <td>総　数</td>\n",
       "      <td>県　内</td>\n",
       "      <td>県　外</td>\n",
       "      <td>NaN</td>\n",
       "    </tr>\n",
       "    <tr>\n",
       "      <th>4</th>\n",
       "      <td>富山県計</td>\n",
       "      <td>-5500</td>\n",
       "      <td>-5858</td>\n",
       "      <td>7251</td>\n",
       "      <td>13109</td>\n",
       "      <td>358</td>\n",
       "      <td>29403</td>\n",
       "      <td>11581</td>\n",
       "      <td>17822</td>\n",
       "      <td>29045</td>\n",
       "      <td>11581</td>\n",
       "      <td>17464</td>\n",
       "      <td>富山県計</td>\n",
       "    </tr>\n",
       "  </tbody>\n",
       "</table>\n",
       "</div>"
      ],
      "text/plain": [
       "                                       0      1              2     3      4   \\\n",
       "0  第５表　市町村別人口動態（平成28年10月１日～平成29年９月30日）男女計    NaN            NaN   NaN    NaN   \n",
       "1                                     NaN    NaN  自　　　然　　　動　　　態   NaN    NaN   \n",
       "2                                    市町村名  純　増　減           自然増加   出　生    死　亡   \n",
       "3                                     NaN    NaN            NaN   NaN    NaN   \n",
       "4                                    富山県計  -5500          -5858  7251  13109   \n",
       "\n",
       "                                      5            6      7      8   \\\n",
       "0                                    NaN          NaN    NaN    NaN   \n",
       "1  社　　　　　　　　　　　会　　　　　　　　　　　動　　　　　　　　　　　態          NaN    NaN    NaN   \n",
       "2                                   社会増加  転　　　　　　　　　入    NaN    NaN   \n",
       "3                                    NaN          総　数    県　内    県　外   \n",
       "4                                    358        29403  11581  17822   \n",
       "\n",
       "           9      10     11      12  \n",
       "0         NaN    NaN    NaN  （単位：人）  \n",
       "1         NaN    NaN    NaN     NaN  \n",
       "2  転　　　　　　　　出    NaN    NaN    市町村名  \n",
       "3         総　数    県　内    県　外     NaN  \n",
       "4       29045  11581  17464    富山県計  "
      ]
     },
     "execution_count": 3,
     "metadata": {},
     "output_type": "execute_result"
    }
   ],
   "source": [
    "data_orig.head()"
   ]
  },
  {
   "cell_type": "code",
   "execution_count": 4,
   "metadata": {
    "scrolled": false
   },
   "outputs": [
    {
     "data": {
      "text/html": [
       "<div>\n",
       "<style scoped>\n",
       "    .dataframe tbody tr th:only-of-type {\n",
       "        vertical-align: middle;\n",
       "    }\n",
       "\n",
       "    .dataframe tbody tr th {\n",
       "        vertical-align: top;\n",
       "    }\n",
       "\n",
       "    .dataframe thead th {\n",
       "        text-align: right;\n",
       "    }\n",
       "</style>\n",
       "<table border=\"1\" class=\"dataframe\">\n",
       "  <thead>\n",
       "    <tr style=\"text-align: right;\">\n",
       "      <th></th>\n",
       "      <th>0</th>\n",
       "      <th>1</th>\n",
       "      <th>2</th>\n",
       "      <th>3</th>\n",
       "      <th>4</th>\n",
       "      <th>5</th>\n",
       "      <th>6</th>\n",
       "      <th>7</th>\n",
       "      <th>8</th>\n",
       "      <th>9</th>\n",
       "      <th>10</th>\n",
       "      <th>11</th>\n",
       "      <th>12</th>\n",
       "    </tr>\n",
       "  </thead>\n",
       "  <tbody>\n",
       "    <tr>\n",
       "      <th>0</th>\n",
       "      <td>富 山 市</td>\n",
       "      <td>-567</td>\n",
       "      <td>-1584</td>\n",
       "      <td>3167</td>\n",
       "      <td>4751</td>\n",
       "      <td>1017</td>\n",
       "      <td>12301</td>\n",
       "      <td>3217</td>\n",
       "      <td>9084</td>\n",
       "      <td>11284</td>\n",
       "      <td>2789</td>\n",
       "      <td>8495</td>\n",
       "      <td>富 山 市</td>\n",
       "    </tr>\n",
       "    <tr>\n",
       "      <th>1</th>\n",
       "      <td>高 岡 市</td>\n",
       "      <td>-1065</td>\n",
       "      <td>-1085</td>\n",
       "      <td>1176</td>\n",
       "      <td>2261</td>\n",
       "      <td>20</td>\n",
       "      <td>4779</td>\n",
       "      <td>2059</td>\n",
       "      <td>2720</td>\n",
       "      <td>4759</td>\n",
       "      <td>1837</td>\n",
       "      <td>2922</td>\n",
       "      <td>高 岡 市</td>\n",
       "    </tr>\n",
       "    <tr>\n",
       "      <th>2</th>\n",
       "      <td>魚 津 市</td>\n",
       "      <td>-456</td>\n",
       "      <td>-252</td>\n",
       "      <td>273</td>\n",
       "      <td>525</td>\n",
       "      <td>-204</td>\n",
       "      <td>1077</td>\n",
       "      <td>532</td>\n",
       "      <td>545</td>\n",
       "      <td>1281</td>\n",
       "      <td>667</td>\n",
       "      <td>614</td>\n",
       "      <td>魚 津 市</td>\n",
       "    </tr>\n",
       "    <tr>\n",
       "      <th>3</th>\n",
       "      <td>氷 見 市</td>\n",
       "      <td>-737</td>\n",
       "      <td>-522</td>\n",
       "      <td>228</td>\n",
       "      <td>750</td>\n",
       "      <td>-215</td>\n",
       "      <td>845</td>\n",
       "      <td>405</td>\n",
       "      <td>440</td>\n",
       "      <td>1060</td>\n",
       "      <td>595</td>\n",
       "      <td>465</td>\n",
       "      <td>氷 見 市</td>\n",
       "    </tr>\n",
       "    <tr>\n",
       "      <th>4</th>\n",
       "      <td>滑 川 市</td>\n",
       "      <td>-58</td>\n",
       "      <td>-150</td>\n",
       "      <td>233</td>\n",
       "      <td>383</td>\n",
       "      <td>92</td>\n",
       "      <td>1063</td>\n",
       "      <td>674</td>\n",
       "      <td>389</td>\n",
       "      <td>971</td>\n",
       "      <td>568</td>\n",
       "      <td>403</td>\n",
       "      <td>滑 川 市</td>\n",
       "    </tr>\n",
       "  </tbody>\n",
       "</table>\n",
       "</div>"
      ],
      "text/plain": [
       "      0      1      2     3     4     5      6     7     8      9     10  \\\n",
       "0  富 山 市   -567  -1584  3167  4751  1017  12301  3217  9084  11284  2789   \n",
       "1  高 岡 市  -1065  -1085  1176  2261    20   4779  2059  2720   4759  1837   \n",
       "2  魚 津 市   -456   -252   273   525  -204   1077   532   545   1281   667   \n",
       "3  氷 見 市   -737   -522   228   750  -215    845   405   440   1060   595   \n",
       "4  滑 川 市    -58   -150   233   383    92   1063   674   389    971   568   \n",
       "\n",
       "     11     12  \n",
       "0  8495  富 山 市  \n",
       "1  2922  高 岡 市  \n",
       "2   614  魚 津 市  \n",
       "3   465  氷 見 市  \n",
       "4   403  滑 川 市  "
      ]
     },
     "execution_count": 4,
     "metadata": {},
     "output_type": "execute_result"
    }
   ],
   "source": [
    "data = data_orig.drop([0,1,2,3,4],axis=0)\n",
    "# drop=True: indexの降り直し,  inplace=True: 書き換えは自身のメモリで行う\n",
    "data.reset_index(drop=True, inplace=True)\n",
    "data.head()"
   ]
  },
  {
   "cell_type": "markdown",
   "metadata": {},
   "source": [
    "上記を見て，市の名前（カラム0），自然増加（カラム2），転入総数（カラム6），転出総数（カラム9）を用いることとし，これをDataFrame dfに結合する"
   ]
  },
  {
   "cell_type": "code",
   "execution_count": 5,
   "metadata": {
    "scrolled": true
   },
   "outputs": [
    {
     "data": {
      "text/html": [
       "<div>\n",
       "<style scoped>\n",
       "    .dataframe tbody tr th:only-of-type {\n",
       "        vertical-align: middle;\n",
       "    }\n",
       "\n",
       "    .dataframe tbody tr th {\n",
       "        vertical-align: top;\n",
       "    }\n",
       "\n",
       "    .dataframe thead th {\n",
       "        text-align: right;\n",
       "    }\n",
       "</style>\n",
       "<table border=\"1\" class=\"dataframe\">\n",
       "  <thead>\n",
       "    <tr style=\"text-align: right;\">\n",
       "      <th></th>\n",
       "      <th>0</th>\n",
       "      <th>2</th>\n",
       "      <th>6</th>\n",
       "      <th>9</th>\n",
       "    </tr>\n",
       "  </thead>\n",
       "  <tbody>\n",
       "    <tr>\n",
       "      <th>0</th>\n",
       "      <td>富 山 市</td>\n",
       "      <td>-1584</td>\n",
       "      <td>12301</td>\n",
       "      <td>11284</td>\n",
       "    </tr>\n",
       "    <tr>\n",
       "      <th>1</th>\n",
       "      <td>高 岡 市</td>\n",
       "      <td>-1085</td>\n",
       "      <td>4779</td>\n",
       "      <td>4759</td>\n",
       "    </tr>\n",
       "    <tr>\n",
       "      <th>2</th>\n",
       "      <td>魚 津 市</td>\n",
       "      <td>-252</td>\n",
       "      <td>1077</td>\n",
       "      <td>1281</td>\n",
       "    </tr>\n",
       "    <tr>\n",
       "      <th>3</th>\n",
       "      <td>氷 見 市</td>\n",
       "      <td>-522</td>\n",
       "      <td>845</td>\n",
       "      <td>1060</td>\n",
       "    </tr>\n",
       "    <tr>\n",
       "      <th>4</th>\n",
       "      <td>滑 川 市</td>\n",
       "      <td>-150</td>\n",
       "      <td>1063</td>\n",
       "      <td>971</td>\n",
       "    </tr>\n",
       "  </tbody>\n",
       "</table>\n",
       "</div>"
      ],
      "text/plain": [
       "       0      2      6      9\n",
       "0  富 山 市  -1584  12301  11284\n",
       "1  高 岡 市  -1085   4779   4759\n",
       "2  魚 津 市   -252   1077   1281\n",
       "3  氷 見 市   -522    845   1060\n",
       "4  滑 川 市   -150   1063    971"
      ]
     },
     "execution_count": 5,
     "metadata": {},
     "output_type": "execute_result"
    }
   ],
   "source": [
    "df = pd.concat([data.iloc[:,0], data.iloc[0:,2], data.iloc[0:,6], data.iloc[0:,9]], axis=1)\n",
    "df.head()"
   ]
  },
  {
   "cell_type": "markdown",
   "metadata": {},
   "source": [
    "dfの各列にラベルを与える, city:市の名前，natural:自然増加, in:転入総数，out:転出総数"
   ]
  },
  {
   "cell_type": "code",
   "execution_count": 6,
   "metadata": {
    "scrolled": false
   },
   "outputs": [
    {
     "data": {
      "text/html": [
       "<div>\n",
       "<style scoped>\n",
       "    .dataframe tbody tr th:only-of-type {\n",
       "        vertical-align: middle;\n",
       "    }\n",
       "\n",
       "    .dataframe tbody tr th {\n",
       "        vertical-align: top;\n",
       "    }\n",
       "\n",
       "    .dataframe thead th {\n",
       "        text-align: right;\n",
       "    }\n",
       "</style>\n",
       "<table border=\"1\" class=\"dataframe\">\n",
       "  <thead>\n",
       "    <tr style=\"text-align: right;\">\n",
       "      <th></th>\n",
       "      <th>city</th>\n",
       "      <th>natural</th>\n",
       "      <th>in</th>\n",
       "      <th>out</th>\n",
       "    </tr>\n",
       "  </thead>\n",
       "  <tbody>\n",
       "    <tr>\n",
       "      <th>0</th>\n",
       "      <td>富 山 市</td>\n",
       "      <td>-1584</td>\n",
       "      <td>12301</td>\n",
       "      <td>11284</td>\n",
       "    </tr>\n",
       "    <tr>\n",
       "      <th>1</th>\n",
       "      <td>高 岡 市</td>\n",
       "      <td>-1085</td>\n",
       "      <td>4779</td>\n",
       "      <td>4759</td>\n",
       "    </tr>\n",
       "    <tr>\n",
       "      <th>2</th>\n",
       "      <td>魚 津 市</td>\n",
       "      <td>-252</td>\n",
       "      <td>1077</td>\n",
       "      <td>1281</td>\n",
       "    </tr>\n",
       "    <tr>\n",
       "      <th>3</th>\n",
       "      <td>氷 見 市</td>\n",
       "      <td>-522</td>\n",
       "      <td>845</td>\n",
       "      <td>1060</td>\n",
       "    </tr>\n",
       "    <tr>\n",
       "      <th>4</th>\n",
       "      <td>滑 川 市</td>\n",
       "      <td>-150</td>\n",
       "      <td>1063</td>\n",
       "      <td>971</td>\n",
       "    </tr>\n",
       "  </tbody>\n",
       "</table>\n",
       "</div>"
      ],
      "text/plain": [
       "    city natural     in    out\n",
       "0  富 山 市   -1584  12301  11284\n",
       "1  高 岡 市   -1085   4779   4759\n",
       "2  魚 津 市    -252   1077   1281\n",
       "3  氷 見 市    -522    845   1060\n",
       "4  滑 川 市    -150   1063    971"
      ]
     },
     "execution_count": 6,
     "metadata": {},
     "output_type": "execute_result"
    }
   ],
   "source": [
    "df.columns = ['city', 'natural', 'in', 'out']\n",
    "df.head()"
   ]
  },
  {
   "cell_type": "markdown",
   "metadata": {},
   "source": [
    "相関図（横軸：自然増加，縦軸：転入総数）をプロットする。このとき，各点に市の名前を付加する"
   ]
  },
  {
   "cell_type": "code",
   "execution_count": 7,
   "metadata": {},
   "outputs": [],
   "source": [
    "names = df.city\n",
    "city_labels = list(names) # dendrogramへの入力はリスト形式"
   ]
  },
  {
   "cell_type": "code",
   "execution_count": 8,
   "metadata": {
    "scrolled": true
   },
   "outputs": [
    {
     "name": "stderr",
     "output_type": "stream",
     "text": [
      "/anaconda3/lib/python3.7/site-packages/matplotlib/font_manager.py:1241: UserWarning: findfont: Font family ['Yu Mincho'] not found. Falling back to DejaVu Sans.\n",
      "  (prop.get_family(), self.defaultFamily[fontext]))\n"
     ]
    },
    {
     "data": {
      "image/png": "[encoded data removed]",
      "text/plain": [
       "<Figure size 576x288 with 1 Axes>"
      ]
     },
     "metadata": {
      "needs_background": "light"
     },
     "output_type": "display_data"
    }
   ],
   "source": [
    "fig = plt.subplots(figsize=(8,4)) # (22,18)\n",
    "plt.rcParams['font.family'] ='Yu Mincho' # 日本語フォントを使うため\n",
    "plt.xlabel('natural')\n",
    "plt.ylabel('in')\n",
    "plt.scatter(df['natural'], df['in'])\n",
    "for i, text in enumerate(df.city):\n",
    "    plt.annotate(text, xy=(df['natural'][i], df['in'][i]), size=10 )\n",
    "\n",
    "if FLAG_fig: plt.savefig('fig_ClusterAggr_Toyama2.png')\n",
    "plt.show()"
   ]
  },
  {
   "cell_type": "markdown",
   "metadata": {},
   "source": [
    "df2 は，クラスタ分析のために，cityを削除したデータフレームである"
   ]
  },
  {
   "cell_type": "code",
   "execution_count": 9,
   "metadata": {
    "scrolled": false
   },
   "outputs": [
    {
     "name": "stderr",
     "output_type": "stream",
     "text": [
      "/anaconda3/lib/python3.7/site-packages/matplotlib/font_manager.py:1241: UserWarning: findfont: Font family ['Yu Mincho'] not found. Falling back to DejaVu Sans.\n",
      "  (prop.get_family(), self.defaultFamily[fontext]))\n"
     ]
    },
    {
     "data": {
      "image/png": "[encoded data removed]",
      "text/plain": [
       "<Figure size 576x288 with 1 Axes>"
      ]
     },
     "metadata": {
      "needs_background": "light"
     },
     "output_type": "display_data"
    }
   ],
   "source": [
    "fig = plt.subplots(figsize=(8,4))\n",
    "df2 = df.drop('city',axis=1)\n",
    "Z = hierarchy.linkage(df2, 'ward')\n",
    "dn = hierarchy.dendrogram(Z, labels=city_labels, leaf_rotation=90.)\n",
    "\n",
    "#plt.tight_layout() # prevent the lack of label\n",
    "if FLAG_fig: plt.savefig('fig_ClusterAggr_Toyama3.png', bbox_inches='tight')\n",
    "plt.show()"
   ]
  },
  {
   "cell_type": "markdown",
   "metadata": {},
   "source": [
    "#### 相関図\n",
    "念のため，各変数同士の相関図を見る。<br>\n",
    "seabornのプロットは，バージョン0.9.0から，この例のようなデータセットの種類の数に応じた色数を明示的に用意することが求められる。<br>\n",
    "そうでないと，次のエラーが現れる \"ValueError: color kwarg must have one color per dataset\"<br>\n",
    "ここでは，簡単に，hue='out'と指定した。ここに，'out'はdfのラベル名。幾つかのWarningが現れるが，気にしないことにする。"
   ]
  },
  {
   "cell_type": "code",
   "execution_count": null,
   "metadata": {},
   "outputs": [],
   "source": [
    "sns.pairplot(df, hue='out')\n",
    "\n",
    "if FLAG_fig: plt.savefig('fig_ClusterAggr_Toyama1.png')\n",
    "plt.show()"
   ]
  },
  {
   "cell_type": "markdown",
   "metadata": {},
   "source": [
    "上記の結果を見て，in, outに強い相関が有ることが認められる。naturalと（in, out）にも負の相関が認められるが，若干，外れる市町村があり，この原因究明も興味深い調査となるであろう。"
   ]
  },
  {
   "cell_type": "code",
   "execution_count": null,
   "metadata": {},
   "outputs": [],
   "source": []
  }
 ],
 "metadata": {
  "kernelspec": {
   "display_name": "Python 3",
   "language": "python",
   "name": "python3"
  },
  "language_info": {
   "codemirror_mode": {
    "name": "ipython",
    "version": 3
   },
   "file_extension": ".py",
   "mimetype": "text/x-python",
   "name": "python",
   "nbconvert_exporter": "python",
   "pygments_lexer": "ipython3",
   "version": "3.7.3"
  }
 },
 "nbformat": 4,
 "nbformat_minor": 2
}
