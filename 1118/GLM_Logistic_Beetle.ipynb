{
 "cells": [
  {
   "cell_type": "markdown",
   "metadata": {},
   "source": [
    "# Generalized Linear Models\n",
    " 薬品とカブトムシの生存率\n",
    "原著：Annette J. Dobson and Adrian G. Barnett, An Introduction to Generalized Linear Models, 3rd ed. , CRCPress 2008, p.127  \n",
    "https://reneues.files.wordpress.com/2010/01/an-introduction-to-generalized-linear-models-second-edition-dobson.pdf\n"
   ]
  },
  {
   "cell_type": "code",
   "execution_count": 1,
   "metadata": {
    "scrolled": true
   },
   "outputs": [],
   "source": [
    "# -*- coding: utf-8 -*-\n",
    "import numpy as np\n",
    "import pandas as pd\n",
    "\n",
    "import matplotlib.pyplot as plt\n",
    "%matplotlib inline\n",
    "\n",
    "import statsmodels.api as sm\n",
    "import statsmodels.formula.api as smf\n",
    "\n",
    "FLAG_fig = False"
   ]
  },
  {
   "cell_type": "markdown",
   "metadata": {},
   "source": [
    "x:投薬量，n:カブトムシの総数，y:死亡数"
   ]
  },
  {
   "cell_type": "code",
   "execution_count": 2,
   "metadata": {},
   "outputs": [
    {
     "name": "stdout",
     "output_type": "stream",
     "text": [
      "        x   n   y\n",
      "0  1.6907  59   6\n",
      "1  1.7242  60  13\n",
      "2  1.7552  62  18\n",
      "3  1.7842  56  28\n",
      "4  1.8113  63  52\n",
      "5  1.8369  59  53\n",
      "6  1.8610  62  61\n",
      "7  1.8839  60  60\n"
     ]
    }
   ],
   "source": [
    "df = pd.DataFrame({'x':[1.6907, 1.7242, 1.7552, 1.7842, 1.8113, 1.8369, 1.861, 1.8839],\n",
    "                   'n':[59, 60, 62, 56, 63, 59, 62, 60],\n",
    "                   'y':[ 6, 13, 18, 28, 52, 53, 61, 60]})\n",
    "print(df)"
   ]
  },
  {
   "cell_type": "markdown",
   "metadata": {},
   "source": [
    "生存(n-y)とそうでない（y）という表現の場合，n-yが生存であることを利用して，<br>\n",
    "glm_model = 'y + I(n-y) ~ x' <br>\n",
    "という表現を用いる。I()内の'-'は算術減算を表す。I()が無いと，かっこ内の'-’はPatsyの表記と見なされ'-y'はyを除去することとなる。"
   ]
  },
  {
   "cell_type": "code",
   "execution_count": 7,
   "metadata": {
    "scrolled": false
   },
   "outputs": [
    {
     "name": "stdout",
     "output_type": "stream",
     "text": [
      "                 Generalized Linear Model Regression Results                  \n",
      "==============================================================================\n",
      "Dep. Variable:      ['y', 'I(n - y)']   No. Observations:                    8\n",
      "Model:                            GLM   Df Residuals:                        6\n",
      "Model Family:                Binomial   Df Model:                            1\n",
      "Link Function:                  logit   Scale:                          1.0000\n",
      "Method:                          IRLS   Log-Likelihood:                -18.715\n",
      "Date:                Mon, 18 Nov 2019   Deviance:                       11.232\n",
      "Time:                        09:15:28   Pearson chi2:                     10.0\n",
      "No. Iterations:                     6   Covariance Type:             nonrobust\n",
      "==============================================================================\n",
      "                 coef    std err          z      P>|z|      [0.025      0.975]\n",
      "------------------------------------------------------------------------------\n",
      "Intercept    -60.7175      5.181    -11.720      0.000     -70.871     -50.563\n",
      "x             34.2703      2.912     11.768      0.000      28.563      39.978\n",
      "==============================================================================\n"
     ]
    }
   ],
   "source": [
    "glm_model = 'y + I(n-y) ~ x'\n",
    "result = smf.glm(formula=glm_model, data=df, family=sm.families.Binomial(link=sm.families.links.logit())).fit()\n",
    "print(result.summary())"
   ]
  },
  {
   "cell_type": "code",
   "execution_count": 6,
   "metadata": {},
   "outputs": [
    {
     "data": {
      "image/png": "[encoded data removed]",
      "text/plain": [
       "<Figure size 432x288 with 1 Axes>"
      ]
     },
     "metadata": {
      "needs_background": "light"
     },
     "output_type": "display_data"
    }
   ],
   "source": [
    "b0 , b1 = result.params\n",
    "#x = np.arange(df.x.min(), df.x.max(), 0.1)\n",
    "xx = np.arange(1.5, 2.0, 0.01)\n",
    "#p = 1.0 /( 1.0 + np.exp( -(b0 + b1*xx ))) \n",
    "p = result.predict(exog = pd.DataFrame({'x': xx}))\n",
    "plt.plot(xx,p)\n",
    "\n",
    "plt.xlabel('z')\n",
    "plt.ylabel('p')\n",
    "plt.scatter(df.x, df.y/df.n)\n",
    "\n",
    "if FLAG_fig: plt.savefig('fig_GLM_Logistic_Beetle.png')"
   ]
  },
  {
   "cell_type": "code",
   "execution_count": null,
   "metadata": {},
   "outputs": [],
   "source": []
  }
 ],
 "metadata": {
  "kernelspec": {
   "display_name": "Python 3",
   "language": "python",
   "name": "python3"
  },
  "language_info": {
   "codemirror_mode": {
    "name": "ipython",
    "version": 3
   },
   "file_extension": ".py",
   "mimetype": "text/x-python",
   "name": "python",
   "nbconvert_exporter": "python",
   "pygments_lexer": "ipython3",
   "version": "3.7.3"
  }
 },
 "nbformat": 4,
 "nbformat_minor": 2
}
