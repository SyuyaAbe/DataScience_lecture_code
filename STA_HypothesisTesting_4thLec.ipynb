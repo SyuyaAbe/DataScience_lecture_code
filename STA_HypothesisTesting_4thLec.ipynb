{
 "cells": [
  {
   "cell_type": "markdown",
   "metadata": {},
   "source": [
    "# 仮説検定（Hypothesis Testing）"
   ]
  },
  {
   "cell_type": "markdown",
   "metadata": {},
   "source": [
    "## 平均値の検定　（母分散が未知） t検定\n",
    "$$\n",
    "t = \\frac{\\hat{\\mu} - \\mu_0}{\\sqrt{\\sigma^2 \\big/ N}}\n",
    "$$\n",
    "上記の$t$検定量は自由度$ df = N - 1 $の$t$分布に従う（ $df$: Degree of Freedom）<br>\n",
    "scipy.stats.t https://docs.scipy.org/doc/scipy/reference/generated/scipy.stats.t.html <br>"
   ]
  },
  {
   "cell_type": "code",
   "execution_count": 1,
   "metadata": {},
   "outputs": [],
   "source": [
    "# -*- coding: utf-8 -*-\n",
    "\n",
    "import numpy as np\n",
    "import scipy as sp\n",
    "from scipy import stats\n",
    "\n",
    "import matplotlib.pyplot as plt\n",
    "%matplotlib inline\n",
    "\n",
    "FLAG_fig = False"
   ]
  },
  {
   "cell_type": "markdown",
   "metadata": {},
   "source": [
    "#### 例１：あるクラス，テストの平均点と補講の効用（片側検定）"
   ]
  },
  {
   "cell_type": "code",
   "execution_count": 3,
   "metadata": {},
   "outputs": [],
   "source": [
    "data = np.array([1, -1, -2, 3, -1, 5, 4, 0, 7,-1])"
   ]
  },
  {
   "cell_type": "code",
   "execution_count": 4,
   "metadata": {},
   "outputs": [
    {
     "name": "stdout",
     "output_type": "stream",
     "text": [
      "1.5 3.064129385141706 10\n"
     ]
    }
   ],
   "source": [
    "#平均値と標準偏差とデータ数を表示\n",
    "m = np.average(data) # mean\n",
    "s = np.std(data, ddof=1) # std, ddof=1 : unbiased\n",
    "N = len(data) # the number of sample\n",
    "print(m,s,N)"
   ]
  },
  {
   "cell_type": "code",
   "execution_count": 5,
   "metadata": {},
   "outputs": [
    {
     "name": "stdout",
     "output_type": "stream",
     "text": [
      "talp (alpha=0.05, df=9) =1.833113\n",
      "t= 1.5480470613460082\n"
     ]
    }
   ],
   "source": [
    "alp = 0.05\n",
    "talp = stats.t.ppf((1-alp),N-1) #  t分布\n",
    "print('talp (alpha=0.05, df=%d) =%f' %((N-1),talp))\n",
    "\n",
    "m0 = 0 # null hypothesis\n",
    "t = (m-m0)/(s/np.sqrt(N))\n",
    "print('t=', t)"
   ]
  },
  {
   "cell_type": "markdown",
   "metadata": {},
   "source": [
    "通常は，talp, t のようなpp(percent point)を求めるよりは，\n",
    "p値(p value)を求める。これを次に示す。"
   ]
  },
  {
   "cell_type": "code",
   "execution_count": 6,
   "metadata": {
    "scrolled": true
   },
   "outputs": [
    {
     "name": "stdout",
     "output_type": "stream",
     "text": [
      "p value= 0.07800883831234118\n"
     ]
    }
   ],
   "source": [
    "prob = stats.t.cdf(t,N-1)\n",
    "print('p value=',1-prob)"
   ]
  },
  {
   "cell_type": "markdown",
   "metadata": {},
   "source": [
    "有意水準を0.05 とおくと，これよりp valueの方が大きい or 小さい（？）　ので，H0を棄却できない or できる（？）\n",
    "。"
   ]
  },
  {
   "cell_type": "code",
   "execution_count": null,
   "metadata": {},
   "outputs": [],
   "source": []
  }
 ],
 "metadata": {
  "kernelspec": {
   "display_name": "Python 3",
   "language": "python",
   "name": "python3"
  },
  "language_info": {
   "codemirror_mode": {
    "name": "ipython",
    "version": 3
   },
   "file_extension": ".py",
   "mimetype": "text/x-python",
   "name": "python",
   "nbconvert_exporter": "python",
   "pygments_lexer": "ipython3",
   "version": "3.7.3"
  }
 },
 "nbformat": 4,
 "nbformat_minor": 2
}
