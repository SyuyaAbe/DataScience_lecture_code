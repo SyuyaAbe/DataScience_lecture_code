{
 "cells": [
  {
   "cell_type": "markdown",
   "metadata": {},
   "source": [
    "# GridSerachの使用例\n",
    "sklearn.model_selection.GridSearchCV  \n",
    "http://scikit-learn.org/stable/modules/generated/sklearn.model_selection.GridSearchCV.html\n",
    "\n",
    "3.2. Tuning the hyper-parameters of an estimator\n",
    "http://scikit-learn.org/stable/modules/grid_search.html#grid-search  \n",
    "\n",
    "Mlxtend (machine learning extensions) is a Python library of useful tools for the day-to-day data science tasks <br>\n",
    "https://rasbt.github.io/mlxtend/\n",
    "- Plotting Decision Regions https://rasbt.github.io/mlxtend/user_guide/plotting/plot_decision_regions/"
   ]
  },
  {
   "cell_type": "code",
   "execution_count": 1,
   "metadata": {},
   "outputs": [],
   "source": [
    "# -*- coding: utf-8 -*-\n",
    "import numpy as np\n",
    "import matplotlib.pyplot as plt\n",
    "from matplotlib import cm # maplotlibのカラーマップを使用\n",
    "%matplotlib inline\n",
    "\n",
    "from sklearn import svm\n",
    "from sklearn.datasets import make_classification\n",
    "from sklearn.model_selection import GridSearchCV\n",
    "from sklearn.metrics import accuracy_score, classification_report\n",
    "\n",
    "from mlxtend.plotting import plot_decision_regions #決定領域のプロット，外部ライブラリを利用\n",
    "#上記のインストールはAnacondaとは別途必要\n",
    "FLAG_fig = False"
   ]
  },
  {
   "cell_type": "code",
   "execution_count": 2,
   "metadata": {},
   "outputs": [
    {
     "data": {
      "image/png": "[encoded data removed]",
      "text/plain": [
       "<Figure size 432x288 with 1 Axes>"
      ]
     },
     "metadata": {
      "needs_background": "light"
     },
     "output_type": "display_data"
    }
   ],
   "source": [
    "Num = 400 # 全サンプル数\n",
    "CV = 5    # サンプル数をCV(Cross Validation)だけ分割する\n",
    "X, y = make_classification( n_samples=Num, n_features=2, n_informative=2, n_redundant=0, \n",
    "                            n_classes=2, n_clusters_per_class=1, \n",
    "                            class_sep=1.0, #　分離度\n",
    "                            shift=None, \n",
    "                            random_state=5) # 乱数の再現性\n",
    "plt.scatter(X[:,0], X[:,1], c=y, cmap=cm.bwr)\n",
    "#if FLAG_fig: plt.savefig('fig_SVM_GridSearch_01.png')\n",
    "plt.show()"
   ]
  },
  {
   "cell_type": "code",
   "execution_count": 3,
   "metadata": {},
   "outputs": [],
   "source": [
    "# グリッドサーチ用パラメータの設定\n",
    "parameters = {'kernel':('linear', 'rbf'), 'C':[0.1, 1.0, 10.0], 'gamma':[0.01, 0.1, 1.0, 10.0]}\n",
    "svc = svm.SVC()"
   ]
  },
  {
   "cell_type": "code",
   "execution_count": 4,
   "metadata": {
    "scrolled": true
   },
   "outputs": [
    {
     "data": {
      "text/plain": [
       "GridSearchCV(cv=5, error_score='raise-deprecating',\n",
       "       estimator=SVC(C=1.0, cache_size=200, class_weight=None, coef0=0.0,\n",
       "  decision_function_shape='ovr', degree=3, gamma='auto_deprecated',\n",
       "  kernel='rbf', max_iter=-1, probability=False, random_state=None,\n",
       "  shrinking=True, tol=0.001, verbose=False),\n",
       "       fit_params=None, iid='warn', n_jobs=None,\n",
       "       param_grid={'kernel': ('linear', 'rbf'), 'C': [0.1, 1.0, 10.0], 'gamma': [0.01, 0.1, 1.0, 10.0]},\n",
       "       pre_dispatch='2*n_jobs', refit=True, return_train_score='warn',\n",
       "       scoring='accuracy', verbose=0)"
      ]
     },
     "execution_count": 4,
     "metadata": {},
     "output_type": "execute_result"
    }
   ],
   "source": [
    "# グリッドサーチの実行\n",
    "clf = GridSearchCV(svc, parameters, scoring='accuracy', cv=CV)\n",
    "clf.fit(X, y)"
   ]
  },
  {
   "cell_type": "code",
   "execution_count": 5,
   "metadata": {},
   "outputs": [
    {
     "name": "stdout",
     "output_type": "stream",
     "text": [
      "Best accuracy =  0.925\n",
      "{'C': 10.0, 'gamma': 1.0, 'kernel': 'rbf'}\n"
     ]
    }
   ],
   "source": [
    "# 最適パラメータの表示\n",
    "print('Best accuracy = ',clf.best_score_)\n",
    "print(clf.best_params_)"
   ]
  },
  {
   "cell_type": "code",
   "execution_count": 6,
   "metadata": {
    "scrolled": true
   },
   "outputs": [
    {
     "name": "stdout",
     "output_type": "stream",
     "text": [
      "Accuracy score =  0.94\n",
      "              precision    recall  f1-score   support\n",
      "\n",
      "           0       0.92      0.96      0.94       200\n",
      "           1       0.96      0.92      0.94       200\n",
      "\n",
      "   micro avg       0.94      0.94      0.94       400\n",
      "   macro avg       0.94      0.94      0.94       400\n",
      "weighted avg       0.94      0.94      0.94       400\n",
      "\n"
     ]
    }
   ],
   "source": [
    "# 最適パラメータによる識別器を全データに適用，テストデータは後述\n",
    "best_clf = clf.best_estimator_\n",
    "pred = best_clf.predict(X)\n",
    "\n",
    "print('Accuracy score = ',accuracy_score(y, pred))\n",
    "print(classification_report(y, pred))"
   ]
  },
  {
   "cell_type": "markdown",
   "metadata": {},
   "source": [
    "#### 新テストデータの作成\n",
    "今回，度，make_classificationを用いて，データを発生させ，それをテストデータに用いる。"
   ]
  },
  {
   "cell_type": "code",
   "execution_count": null,
   "metadata": {},
   "outputs": [],
   "source": [
    "Num = 100 # 追加サンプル数\n",
    "X_test, y_test = make_classification( n_samples=Num, n_features=2, n_informative=2, n_redundant=0, \n",
    "                            n_classes=2, n_clusters_per_class=1, \n",
    "                            class_sep=1.0, #　分離度\n",
    "                            shift=None, \n",
    "                            random_state=1) # 異なる確率過程\n",
    "plt.scatter(X_test[:,0], X_test[:,1], c=y_test, cmap=cm.bwr)\n",
    "#if FLAG_fig: plt.savefig('fig_SVM_GridSearch_02.png')\n",
    "plt.show()"
   ]
  },
  {
   "cell_type": "code",
   "execution_count": null,
   "metadata": {},
   "outputs": [],
   "source": [
    "y_test_pred = best_clf.predict(X_test) # y_testに対するprediction\n",
    "\n",
    "print('Accuracy score = ',accuracy_score(y_test, y_test_pred))\n",
    "print(classification_report(y_test, y_test_pred))"
   ]
  },
  {
   "cell_type": "code",
   "execution_count": null,
   "metadata": {},
   "outputs": [],
   "source": [
    "fig, axes = plt.subplots(1, 2, figsize=(12,8), sharex=True, sharey=True)\n",
    "plot_decision_regions(X,y, clf=best_clf,            res=0.02, ax=axes[0], legend=2)\n",
    "axes[0].set_xlabel('(a) Traing data')\n",
    "\n",
    "plot_decision_regions(X_test, y_test, clf=best_clf, res=0.02, ax=axes[1], legend=2)\n",
    "axes[1].set_xlabel('(b) Test data')\n",
    "\n",
    "if FLAG_fig: plt.savefig('fig_SVM_GridSearch_Result.png')\n",
    "plt.show()"
   ]
  }
 ],
 "metadata": {
  "kernelspec": {
   "display_name": "Python 3",
   "language": "python",
   "name": "python3"
  },
  "language_info": {
   "codemirror_mode": {
    "name": "ipython",
    "version": 3
   },
   "file_extension": ".py",
   "mimetype": "text/x-python",
   "name": "python",
   "nbconvert_exporter": "python",
   "pygments_lexer": "ipython3",
   "version": "3.7.3"
  }
 },
 "nbformat": 4,
 "nbformat_minor": 2
}
